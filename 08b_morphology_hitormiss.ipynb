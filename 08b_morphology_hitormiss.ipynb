{
 "cells": [
  {
   "cell_type": "markdown",
   "metadata": {},
   "source": [
    "## 08 - Mathematical morphology\n",
    "\n",
    "\n",
    "#### Part 2 - implementing a hit-or-miss transform\n"
   ]
  },
  {
   "cell_type": "code",
   "execution_count": 1,
   "metadata": {},
   "outputs": [],
   "source": [
    "import imageio\n",
    "import numpy as np\n",
    "from skimage import morphology\n",
    "import matplotlib.pyplot as plt"
   ]
  },
  {
   "cell_type": "markdown",
   "metadata": {},
   "source": [
    "---\n",
    "\n",
    "#### Hit-or-miss transform\n",
    "\n",
    "It is a type of shape-detection / pattern matching algorithm\n",
    "\n",
    "* an erosion can be seen as a *hit* or a matching\n",
    "* but only erosion cannot guarantee that the hit is a disjunct object\n",
    "* so we use local background information to do that so\n",
    "\n",
    "The hit-or-miss of an image A with a structuring element S is:\n",
    "\n",
    "$$(A \\ominus S) \\cap ( A^C \\ominus (W-S) )$$\n",
    "\n",
    "where $A^C$ is complement of $A$ and $W$ is a window that can be obtained by the dilation of $S$"
   ]
  },
  {
   "cell_type": "code",
   "execution_count": 2,
   "metadata": {},
   "outputs": [
    {
     "data": {
      "text/plain": [
       "array([[0., 0., 0., 0., 0., 0., 0.],\n",
       "       [0., 0., 1., 1., 1., 0., 0.],\n",
       "       [0., 0., 1., 1., 1., 0., 0.],\n",
       "       [0., 1., 1., 1., 1., 1., 0.],\n",
       "       [0., 0., 1., 1., 1., 0., 0.],\n",
       "       [0., 0., 1., 1., 1., 0., 0.],\n",
       "       [0., 0., 0., 0., 0., 0., 0.]])"
      ]
     },
     "execution_count": 2,
     "metadata": {},
     "output_type": "execute_result"
    }
   ],
   "source": [
    "S = np.zeros([7,7])\n",
    "S[3, 1:6] = 1\n",
    "S[1:6, 2:5] = 1\n",
    "S"
   ]
  },
  {
   "cell_type": "code",
   "execution_count": 3,
   "metadata": {},
   "outputs": [
    {
     "data": {
      "text/plain": [
       "array([[0., 0., 1., 1., 1., 0., 0.],\n",
       "       [0., 1., 1., 1., 1., 1., 0.],\n",
       "       [0., 1., 1., 1., 1., 1., 0.],\n",
       "       [1., 1., 1., 1., 1., 1., 1.],\n",
       "       [0., 1., 1., 1., 1., 1., 0.],\n",
       "       [0., 1., 1., 1., 1., 1., 0.],\n",
       "       [0., 0., 1., 1., 1., 0., 0.]])"
      ]
     },
     "execution_count": 3,
     "metadata": {},
     "output_type": "execute_result"
    }
   ],
   "source": [
    "W = morphology.dilation(S, morphology.diamond(1))\n",
    "W"
   ]
  },
  {
   "cell_type": "code",
   "execution_count": 4,
   "metadata": {},
   "outputs": [
    {
     "data": {
      "text/plain": [
       "<matplotlib.image.AxesImage at 0x7fb9a11eb7f0>"
      ]
     },
     "execution_count": 4,
     "metadata": {},
     "output_type": "execute_result"
    },
    {
     "data": {
      "image/png": "[encoded data removed]",
      "text/plain": [
       "<Figure size 432x288 with 2 Axes>"
      ]
     },
     "metadata": {
      "needs_background": "light"
     },
     "output_type": "display_data"
    }
   ],
   "source": [
    "A = imageio.imread(\"images/hit2.png\")\n",
    "plt.subplot(121); plt.imshow(A, cmap=\"gray\")\n",
    "plt.subplot(122); plt.imshow(S, cmap=\"gray\")"
   ]
  },
  {
   "cell_type": "markdown",
   "metadata": {},
   "source": [
    "$$(A \\ominus S) \\cap ( A^C \\ominus (W-S) )$$"
   ]
  },
  {
   "cell_type": "code",
   "execution_count": 5,
   "metadata": {},
   "outputs": [
    {
     "data": {
      "text/plain": [
       "Text(0.5, 1.0, 'A erosion S')"
      ]
     },
     "execution_count": 5,
     "metadata": {},
     "output_type": "execute_result"
    },
    {
     "data": {
      "image/png": "[encoded data removed]",
      "text/plain": [
       "<Figure size 432x288 with 2 Axes>"
      ]
     },
     "metadata": {
      "needs_background": "light"
     },
     "output_type": "display_data"
    }
   ],
   "source": [
    "AerosionS = morphology.erosion(A, S).astype(np.uint8)\n",
    "plt.subplot(121); plt.imshow(A, cmap=\"gray\")\n",
    "plt.subplot(122); plt.imshow(AerosionS, cmap=\"gray\"); plt.title(\"A erosion S\")"
   ]
  },
  {
   "cell_type": "code",
   "execution_count": 6,
   "metadata": {},
   "outputs": [
    {
     "data": {
      "text/plain": [
       "Text(0.5, 1.0, 'W-S')"
      ]
     },
     "execution_count": 6,
     "metadata": {},
     "output_type": "execute_result"
    },
    {
     "data": {
      "image/png": "[encoded data removed]",
      "text/plain": [
       "<Figure size 432x288 with 2 Axes>"
      ]
     },
     "metadata": {
      "needs_background": "light"
     },
     "output_type": "display_data"
    }
   ],
   "source": [
    "WminusS = W-S\n",
    "plt.subplot(121); plt.imshow(S, cmap=\"gray\"); plt.title(\"S\")\n",
    "plt.subplot(122); plt.imshow(W-S, cmap=\"gray\"); plt.title(\"W-S\")"
   ]
  },
  {
   "cell_type": "code",
   "execution_count": 7,
   "metadata": {},
   "outputs": [
    {
     "data": {
      "text/plain": [
       "Text(0.5, 1.0, 'A complement')"
      ]
     },
     "execution_count": 7,
     "metadata": {},
     "output_type": "execute_result"
    },
    {
     "data": {
      "image/png": "[encoded data removed]",
      "text/plain": [
       "<Figure size 432x288 with 2 Axes>"
      ]
     },
     "metadata": {
      "needs_background": "light"
     },
     "output_type": "display_data"
    }
   ],
   "source": [
    "Acomp = (A-1).astype(np.uint8)\n",
    "plt.subplot(121); plt.imshow(A, cmap=\"gray\")\n",
    "plt.subplot(122); plt.imshow(Acomp, cmap=\"gray\"); plt.title(\"A complement\")"
   ]
  },
  {
   "cell_type": "code",
   "execution_count": 8,
   "metadata": {},
   "outputs": [
    {
     "data": {
      "text/plain": [
       "Text(0.5, 1.0, 'A comp erosion')"
      ]
     },
     "execution_count": 8,
     "metadata": {},
     "output_type": "execute_result"
    },
    {
     "data": {
      "image/png": "[encoded data removed]",
      "text/plain": [
       "<Figure size 432x288 with 2 Axes>"
      ]
     },
     "metadata": {
      "needs_background": "light"
     },
     "output_type": "display_data"
    }
   ],
   "source": [
    "Acomp_erosion_WminusS = morphology.erosion(Acomp, WminusS).astype(np.uint8)\n",
    "plt.subplot(121); plt.imshow(Acomp, cmap=\"gray\"); plt.title(\"A complement\")\n",
    "plt.subplot(122); plt.imshow(Acomp_erosion_WminusS, cmap=\"gray\"); plt.title(\"A comp erosion\")"
   ]
  },
  {
   "cell_type": "markdown",
   "metadata": {},
   "source": [
    "Putting everything together\n",
    "* we have to take care to convert the matrices into binary before applying `bitwise_and`"
   ]
  },
  {
   "cell_type": "code",
   "execution_count": 9,
   "metadata": {
    "scrolled": false
   },
   "outputs": [
    {
     "name": "stdout",
     "output_type": "stream",
     "text": [
      "(array([ 5,  5, 15, 15]), array([ 5, 15,  5, 15]))\n",
      "(array([], dtype=int64), array([], dtype=int64))\n"
     ]
    },
    {
     "data": {
      "image/png": "[encoded data removed]",
      "text/plain": [
       "<Figure size 864x288 with 6 Axes>"
      ]
     },
     "metadata": {
      "needs_background": "light"
     },
     "output_type": "display_data"
    }
   ],
   "source": [
    "A_hit_S = np.bitwise_and(AerosionS==255, Acomp_erosion_WminusS==255).astype(np.uint8)\n",
    "\n",
    "fig = plt.figure(figsize=(12,4))\n",
    "plt.subplot(131); plt.imshow(AerosionS, cmap=\"gray\"); plt.colorbar()\n",
    "plt.subplot(132); plt.imshow(Acomp_erosion_WminusS, cmap=\"gray\"); plt.colorbar()\n",
    "plt.subplot(133); plt.imshow(A_hit_S, cmap=\"gray\"); plt.title(\"hit_or_miss\"); plt.colorbar()\n",
    "\n",
    "print(np.where(AerosionS == 255))\n",
    "\n",
    "print(np.where(A_hit_S == 255))"
   ]
  }
 ],
 "metadata": {
  "kernelspec": {
   "display_name": "Python 3",
   "language": "python",
   "name": "python3"
  },
  "language_info": {
   "codemirror_mode": {
    "name": "ipython",
    "version": 3
   },
   "file_extension": ".py",
   "mimetype": "text/x-python",
   "name": "python",
   "nbconvert_exporter": "python",
   "pygments_lexer": "ipython3",
   "version": "3.8.3"
  }
 },
 "nbformat": 4,
 "nbformat_minor": 2
}
